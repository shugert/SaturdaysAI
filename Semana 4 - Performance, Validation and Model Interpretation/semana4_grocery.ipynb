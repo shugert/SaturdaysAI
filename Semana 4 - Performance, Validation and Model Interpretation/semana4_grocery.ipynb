{
  "nbformat": 4,
  "nbformat_minor": 0,
  "metadata": {
    "colab": {
      "name": "lesson3-grocery.ipynb",
      "version": "0.3.2",
      "provenance": [],
      "collapsed_sections": [],
      "include_colab_link": true
    },
    "kernelspec": {
      "display_name": "Python 3",
      "language": "python",
      "name": "python3"
    }
  },
  "cells": [
    {
      "cell_type": "markdown",
      "metadata": {
        "id": "view-in-github",
        "colab_type": "text"
      },
      "source": [
        "<a href=\"https://colab.research.google.com/github/Giffy/fast.ai/blob/master/Machine%20Learning/lesson3_grocery.ipynb\" target=\"_parent\"><img src=\"https://colab.research.google.com/assets/colab-badge.svg\" alt=\"Open In Colab\"/></a>"
      ]
    },
    {
      "metadata": {
        "id": "1v33OfLT0wC_",
        "colab_type": "text"
      },
      "cell_type": "markdown",
      "source": [
        "**Important: This notebook will only work with fastai-0.7.x. Do not try to run any fastai-1.x code from this path in the repository because it will load fastai-0.7.x**"
      ]
    },
    {
      "metadata": {
        "id": "yMQFGPAsz9F9",
        "colab_type": "text"
      },
      "cell_type": "markdown",
      "source": [
        "# Intro to Random Forests - Favorita Grocery Sales Forecasting "
      ]
    },
    {
      "metadata": {
        "id": "XxzMAtUg0ypy",
        "colab_type": "text"
      },
      "cell_type": "markdown",
      "source": [
        "Notebook based in kaggle competition [Can you accurately predict sales for a large grocery chain?](https://www.kaggle.com/c/favorita-grocery-sales-forecasting)\n",
        "\n",
        "Corporación Favorita has challenged the Kaggle community to build a model that more accurately forecasts product sales.\n",
        "\n",
        "They’re excited to see how machine learning could better ensure they please customers by having just enough of the right products at the right time.\n",
        "\n",
        "In this competition, you will be predicting the unit sales for thousands of items sold at different Favorita stores located in Ecuador. The training data includes dates, store and item information, whether that item was being promoted, as well as the unit sales. Additional files include supplementary information that may be useful in building your models.\n",
        "\n",
        "##File Descriptions and Data Field Information\n",
        "\n",
        "**train.csv**\n",
        "\n",
        "* Training data, which includes the target *unit_sales by date, store_nbr*, and *item_nbr* and a unique *id* to label rows.\n",
        "* The target unit_sales can be integer (e.g., a bag of chips) or float (e.g., 1.5 kg of cheese).\n",
        "* Negative values of unit_sales represent returns of that particular item.\n",
        "* The onpromotion column tells whether that item_nbr was on promotion for a specified date and store_nbr.\n",
        "* Approximately 16% of the onpromotion values in this file are NaN.\n",
        "* **NOTE:** The training data does not include rows for items that had zero unit_sales for a store/date combination. There is no information as to whether or not the item was in stock for the store on the date, and teams will need to decide the best way to handle that situation. Also, there are a small number of items seen in the training data that aren't seen in the test data.\n",
        "\n",
        "\n",
        "**test.csv**\n",
        "\n",
        "* Test data, with the date, store_nbr, item_nbr combinations that are to be predicted, along with the onpromotion information.\n",
        "* **NOTE:** The test data has a small number of items that are not contained in the training data. Part of the exercise will be to predict a new item sales based on similar products..\n",
        "* The public / private leaderboard split is based on time. All items in the public split are also included in the private split.\n"
      ]
    },
    {
      "metadata": {
        "id": "SepvaI5aUCes",
        "colab_type": "text"
      },
      "cell_type": "markdown",
      "source": [
        "# Google Colab setup\n",
        "Installs fast.ai 0.7.0 and the required libraries to run the notebook.\n",
        "\n",
        "Also downloads the required datasets.\n",
        "\n",
        "Train.csv dataset has been reduced in order to store the data sample in Github. \n",
        "\n",
        "Original data file can be downloaded in [kaggle](https://www.kaggle.com/c/favorita-grocery-sales-forecasting/data) (size of compressed file:  474Mb) "
      ]
    },
    {
      "metadata": {
        "id": "uZLvPKByUEnE",
        "colab_type": "code",
        "outputId": "413b56f6-ffad-4086-cfab-25ed2482bac5",
        "colab": {
          "base_uri": "https://localhost:8080/",
          "height": 280
        }
      },
      "cell_type": "code",
      "source": [
        "print (\" Installing FastAI libraries ... (takes 2 min)\")\n",
        "!pip install fastai==0.7.0 > /dev/null\n",
        "print (\"\\n Clonning FastAI repository locally ...\")\n",
        "!git clone https://github.com/fastai/fastai.git fastai_ml\n",
        "!ln -s fastai_ml/courses/ml1/fastai/ fastai"
      ],
      "execution_count": 1,
      "outputs": [
        {
          "output_type": "stream",
          "text": [
            " Installing FastAI libraries ... (takes 2 min)\n",
            "\u001b[31mtorchvision 0.2.1 has requirement pillow>=4.1.1, but you'll have pillow 4.0.0 which is incompatible.\u001b[0m\n",
            "\u001b[31mmizani 0.5.3 has requirement pandas>=0.23.4, but you'll have pandas 0.22.0 which is incompatible.\u001b[0m\n",
            "\u001b[31mplotnine 0.5.1 has requirement pandas>=0.23.4, but you'll have pandas 0.22.0 which is incompatible.\u001b[0m\n",
            "\n",
            " Clonning FastAI repository locally ...\n",
            "Cloning into 'fastai_ml'...\n",
            "remote: Enumerating objects: 99, done.\u001b[K\n",
            "remote: Counting objects: 100% (99/99), done.\u001b[K\n",
            "remote: Compressing objects: 100% (60/60), done.\u001b[K\n",
            "remote: Total 23512 (delta 43), reused 67 (delta 38), pack-reused 23413\u001b[K\n",
            "Receiving objects: 100% (23512/23512), 374.89 MiB | 31.05 MiB/s, done.\n",
            "Resolving deltas: 100% (16540/16540), done.\n",
            "Checking out files: 100% (761/761), done.\n"
          ],
          "name": "stdout"
        }
      ]
    },
    {
      "metadata": {
        "id": "Oe1CdVcBUKFz",
        "colab_type": "code",
        "outputId": "abec3de4-1d04-4b04-95f9-8e0d388ae972",
        "colab": {
          "base_uri": "https://localhost:8080/",
          "height": 541
        }
      },
      "cell_type": "code",
      "source": [
        "print (\"\\n Installing required libraries...\")\n",
        "!pip install --upgrade setuptools > /dev/null\n",
        "!pip install feather > /dev/null\n",
        "!pip install scikit-misc==0.1.0 > /dev/null\n",
        "!pip install pdpbox==0.2.0 > /dev/null\n",
        "!pip install treeinterpreter==0.2.2 > /dev/null\n",
        "print (\"\\n Downloading datasets...\")\n",
        "!wget https://raw.githubusercontent.com/Giffy/Personal_dataset_repository/master/grocery-sales-train.7z\n",
        "!7z x -y grocery-sales-train.7z > /dev/null\n",
        "!wget https://raw.githubusercontent.com/Giffy/Personal_dataset_repository/master/grocery-sales-test.tar.gz\n",
        "!tar xvf grocery-sales-test.tar.gz > /dev/null\n",
        "print (\"\\n Importing libraries\")\n",
        "import pandas as pd\n",
        "import os\n",
        "import numpy as np"
      ],
      "execution_count": 2,
      "outputs": [
        {
          "output_type": "stream",
          "text": [
            "\n",
            " Installing required libraries...\n",
            "\u001b[31mCommand \"python setup.py egg_info\" failed with error code 1 in /tmp/pip-install-g48mk3m1/feather/\u001b[0m\n",
            "\n",
            " Downloading datasets...\n",
            "--2019-02-15 16:13:05--  https://raw.githubusercontent.com/Giffy/Personal_dataset_repository/master/grocery-sales-train.7z\n",
            "Resolving raw.githubusercontent.com (raw.githubusercontent.com)... 151.101.0.133, 151.101.64.133, 151.101.128.133, ...\n",
            "Connecting to raw.githubusercontent.com (raw.githubusercontent.com)|151.101.0.133|:443... connected.\n",
            "HTTP request sent, awaiting response... 200 OK\n",
            "Length: 23818196 (23M) [application/octet-stream]\n",
            "Saving to: ‘grocery-sales-train.7z’\n",
            "\n",
            "grocery-sales-train 100%[===================>]  22.71M  --.-KB/s    in 0.1s    \n",
            "\n",
            "2019-02-15 16:13:06 (186 MB/s) - ‘grocery-sales-train.7z’ saved [23818196/23818196]\n",
            "\n",
            "--2019-02-15 16:13:10--  https://raw.githubusercontent.com/Giffy/Personal_dataset_repository/master/grocery-sales-test.tar.gz\n",
            "Resolving raw.githubusercontent.com (raw.githubusercontent.com)... 151.101.0.133, 151.101.64.133, 151.101.128.133, ...\n",
            "Connecting to raw.githubusercontent.com (raw.githubusercontent.com)|151.101.0.133|:443... connected.\n",
            "HTTP request sent, awaiting response... 200 OK\n",
            "Length: 20306349 (19M) [application/octet-stream]\n",
            "Saving to: ‘grocery-sales-test.tar.gz’\n",
            "\n",
            "grocery-sales-test. 100%[===================>]  19.37M  --.-KB/s    in 0.1s    \n",
            "\n",
            "2019-02-15 16:13:11 (163 MB/s) - ‘grocery-sales-test.tar.gz’ saved [20306349/20306349]\n",
            "\n",
            "\n",
            " Importing libraries\n"
          ],
          "name": "stdout"
        }
      ]
    },
    {
      "metadata": {
        "_uuid": "d926806e83da165dc5e5cd9fbba3f30e0d36df82",
        "id": "EISU3o0gTfj6",
        "colab_type": "text"
      },
      "cell_type": "markdown",
      "source": [
        "# 1 Imports "
      ]
    },
    {
      "metadata": {
        "id": "P6xBCVgdTflL",
        "colab_type": "code",
        "colab": {}
      },
      "cell_type": "code",
      "source": [
        "%load_ext autoreload\n",
        "%autoreload 2\n",
        "%matplotlib inline"
      ],
      "execution_count": 0,
      "outputs": []
    },
    {
      "metadata": {
        "_cell_guid": "b1076dfc-b9ad-4769-8c92-a6c4dae69d19",
        "_uuid": "8f2839f25d086af736a60e9eeb907d3b93b6e0e5",
        "id": "ppem6FI-Tfnm",
        "colab_type": "code",
        "colab": {}
      },
      "cell_type": "code",
      "source": [
        "from fastai.imports import *\n",
        "from fastai.structured import *\n",
        "\n",
        "from sklearn.ensemble import RandomForestRegressor\n",
        "from IPython.display import display\n",
        "\n",
        "from sklearn import metrics"
      ],
      "execution_count": 0,
      "outputs": []
    },
    {
      "metadata": {
        "_cell_guid": "79c7e3d0-c299-4dcb-8224-4455121ee9b0",
        "_uuid": "d629ff2d2480ee46fbb7e2d37f6b5fab8052498a",
        "id": "H4h4u4c4TfqM",
        "colab_type": "code",
        "outputId": "fc6e74c0-7f83-4846-98d5-a69b3418a8e1",
        "colab": {
          "base_uri": "https://localhost:8080/",
          "height": 34
        }
      },
      "cell_type": "code",
      "source": [
        "PATH = 'grocery-sales/'\n",
        "!ls {PATH}"
      ],
      "execution_count": 5,
      "outputs": [
        {
          "output_type": "stream",
          "text": [
            "test.csv  train_basic.csv\n"
          ],
          "name": "stdout"
        }
      ]
    },
    {
      "metadata": {
        "_uuid": "c39551e1aa0b31682c15c2a23c36c6abf83eb4ab",
        "id": "N6oW-YEGTfsZ",
        "colab_type": "text"
      },
      "cell_type": "markdown",
      "source": [
        "# 2 Read data"
      ]
    },
    {
      "metadata": {
        "_uuid": "7b156ece90949701ee9d03598ac82de92bc04e5c",
        "id": "lmd_mIbKTfs4",
        "colab_type": "code",
        "colab": {}
      },
      "cell_type": "code",
      "source": [
        "types = {'id': 'int64',\n",
        "        'item_nbr': 'int32',\n",
        "        'store_nbr': 'int8',\n",
        "        'unit_sales': 'float32',\n",
        "        'onpromotion': 'object'}"
      ],
      "execution_count": 0,
      "outputs": []
    },
    {
      "metadata": {
        "_uuid": "820a03c2cede08b15a3a034be9afc755ed779816",
        "id": "ihfpeDtXTfuh",
        "colab_type": "code",
        "outputId": "0e17faf3-8070-4246-c94b-fbb4e792ff18",
        "colab": {
          "base_uri": "https://localhost:8080/",
          "height": 52
        }
      },
      "cell_type": "code",
      "source": [
        "%%time\n",
        "df_all = pd.read_csv(f'{PATH}train_basic.csv', parse_dates=['date'], dtype=types, \n",
        "                     infer_datetime_format=True)#, skiprows=range(1,100000000))"
      ],
      "execution_count": 7,
      "outputs": [
        {
          "output_type": "stream",
          "text": [
            "CPU times: user 2.55 s, sys: 159 ms, total: 2.71 s\n",
            "Wall time: 2.72 s\n"
          ],
          "name": "stdout"
        }
      ]
    },
    {
      "metadata": {
        "_uuid": "b4c881d08e93f95eba88a232b2bb9485131e2b4e",
        "id": "l4bfOxx6Tfvc",
        "colab_type": "code",
        "outputId": "73f4cfec-bf58-434e-8233-7d8ccb82134e",
        "colab": {
          "base_uri": "https://localhost:8080/",
          "height": 52
        }
      },
      "cell_type": "code",
      "source": [
        "df_all.onpromotion.fillna(False, inplace=True)\n",
        "df_all.onpromotion = df_all.onpromotion.map({'False': False, 'True': True})\n",
        "df_all.onpromotion = df_all.onpromotion.astype(bool)\n",
        "\n",
        "os.makedirs('tmp', exist_ok=True)\n",
        "%time df_all.to_feather('tmp/raw_groceries')"
      ],
      "execution_count": 8,
      "outputs": [
        {
          "output_type": "stream",
          "text": [
            "CPU times: user 64 ms, sys: 75.1 ms, total: 139 ms\n",
            "Wall time: 402 ms\n"
          ],
          "name": "stdout"
        }
      ]
    },
    {
      "metadata": {
        "_uuid": "0f14aba164eab0e77fd8fb23cea60eb951a88b8b",
        "id": "Jrh0wdk0Tfwf",
        "colab_type": "code",
        "outputId": "02548051-8426-40db-c742-b423d203c40d",
        "colab": {
          "base_uri": "https://localhost:8080/",
          "height": 564
        }
      },
      "cell_type": "code",
      "source": [
        "df_all.drop('Unnamed: 0', axis=1, inplace=True)\n",
        "%time df_all.describe(include='all')"
      ],
      "execution_count": 20,
      "outputs": [
        {
          "output_type": "stream",
          "text": [
            "CPU times: user 751 ms, sys: 739 µs, total: 752 ms\n",
            "Wall time: 751 ms\n"
          ],
          "name": "stdout"
        },
        {
          "output_type": "execute_result",
          "data": {
            "text/html": [
              "<div>\n",
              "<style scoped>\n",
              "    .dataframe tbody tr th:only-of-type {\n",
              "        vertical-align: middle;\n",
              "    }\n",
              "\n",
              "    .dataframe tbody tr th {\n",
              "        vertical-align: top;\n",
              "    }\n",
              "\n",
              "    .dataframe thead th {\n",
              "        text-align: right;\n",
              "    }\n",
              "</style>\n",
              "<table border=\"1\" class=\"dataframe\">\n",
              "  <thead>\n",
              "    <tr style=\"text-align: right;\">\n",
              "      <th></th>\n",
              "      <th>id</th>\n",
              "      <th>date</th>\n",
              "      <th>store_nbr</th>\n",
              "      <th>item_nbr</th>\n",
              "      <th>unit_sales</th>\n",
              "      <th>onpromotion</th>\n",
              "    </tr>\n",
              "  </thead>\n",
              "  <tbody>\n",
              "    <tr>\n",
              "      <th>count</th>\n",
              "      <td>1.997040e+06</td>\n",
              "      <td>1997040</td>\n",
              "      <td>1.997040e+06</td>\n",
              "      <td>1.997040e+06</td>\n",
              "      <td>1.997040e+06</td>\n",
              "      <td>1997040</td>\n",
              "    </tr>\n",
              "    <tr>\n",
              "      <th>unique</th>\n",
              "      <td>NaN</td>\n",
              "      <td>1684</td>\n",
              "      <td>NaN</td>\n",
              "      <td>NaN</td>\n",
              "      <td>NaN</td>\n",
              "      <td>2</td>\n",
              "    </tr>\n",
              "    <tr>\n",
              "      <th>top</th>\n",
              "      <td>NaN</td>\n",
              "      <td>2017-05-07 00:00:00</td>\n",
              "      <td>NaN</td>\n",
              "      <td>NaN</td>\n",
              "      <td>NaN</td>\n",
              "      <td>False</td>\n",
              "    </tr>\n",
              "    <tr>\n",
              "      <th>freq</th>\n",
              "      <td>NaN</td>\n",
              "      <td>1908</td>\n",
              "      <td>NaN</td>\n",
              "      <td>NaN</td>\n",
              "      <td>NaN</td>\n",
              "      <td>1528448</td>\n",
              "    </tr>\n",
              "    <tr>\n",
              "      <th>first</th>\n",
              "      <td>NaN</td>\n",
              "      <td>2013-01-01 00:00:00</td>\n",
              "      <td>NaN</td>\n",
              "      <td>NaN</td>\n",
              "      <td>NaN</td>\n",
              "      <td>NaN</td>\n",
              "    </tr>\n",
              "    <tr>\n",
              "      <th>last</th>\n",
              "      <td>NaN</td>\n",
              "      <td>2017-08-15 00:00:00</td>\n",
              "      <td>NaN</td>\n",
              "      <td>NaN</td>\n",
              "      <td>NaN</td>\n",
              "      <td>NaN</td>\n",
              "    </tr>\n",
              "    <tr>\n",
              "      <th>mean</th>\n",
              "      <td>6.271723e+07</td>\n",
              "      <td>NaN</td>\n",
              "      <td>2.745692e+01</td>\n",
              "      <td>9.728621e+05</td>\n",
              "      <td>8.551911e+00</td>\n",
              "      <td>NaN</td>\n",
              "    </tr>\n",
              "    <tr>\n",
              "      <th>std</th>\n",
              "      <td>3.619772e+07</td>\n",
              "      <td>NaN</td>\n",
              "      <td>1.633284e+01</td>\n",
              "      <td>5.202940e+05</td>\n",
              "      <td>2.057796e+01</td>\n",
              "      <td>NaN</td>\n",
              "    </tr>\n",
              "    <tr>\n",
              "      <th>min</th>\n",
              "      <td>2.060000e+02</td>\n",
              "      <td>NaN</td>\n",
              "      <td>1.000000e+00</td>\n",
              "      <td>9.699500e+04</td>\n",
              "      <td>-1.768000e+03</td>\n",
              "      <td>NaN</td>\n",
              "    </tr>\n",
              "    <tr>\n",
              "      <th>25%</th>\n",
              "      <td>3.138601e+07</td>\n",
              "      <td>NaN</td>\n",
              "      <td>1.200000e+01</td>\n",
              "      <td>5.227210e+05</td>\n",
              "      <td>2.000000e+00</td>\n",
              "      <td>NaN</td>\n",
              "    </tr>\n",
              "    <tr>\n",
              "      <th>50%</th>\n",
              "      <td>6.269716e+07</td>\n",
              "      <td>NaN</td>\n",
              "      <td>2.800000e+01</td>\n",
              "      <td>9.595020e+05</td>\n",
              "      <td>4.000000e+00</td>\n",
              "      <td>NaN</td>\n",
              "    </tr>\n",
              "    <tr>\n",
              "      <th>75%</th>\n",
              "      <td>9.402764e+07</td>\n",
              "      <td>NaN</td>\n",
              "      <td>4.300000e+01</td>\n",
              "      <td>1.354380e+06</td>\n",
              "      <td>9.000000e+00</td>\n",
              "      <td>NaN</td>\n",
              "    </tr>\n",
              "    <tr>\n",
              "      <th>max</th>\n",
              "      <td>1.254970e+08</td>\n",
              "      <td>NaN</td>\n",
              "      <td>5.400000e+01</td>\n",
              "      <td>2.127114e+06</td>\n",
              "      <td>6.909000e+03</td>\n",
              "      <td>NaN</td>\n",
              "    </tr>\n",
              "  </tbody>\n",
              "</table>\n",
              "</div>"
            ],
            "text/plain": [
              "                  id                 date     store_nbr      item_nbr  \\\n",
              "count   1.997040e+06              1997040  1.997040e+06  1.997040e+06   \n",
              "unique           NaN                 1684           NaN           NaN   \n",
              "top              NaN  2017-05-07 00:00:00           NaN           NaN   \n",
              "freq             NaN                 1908           NaN           NaN   \n",
              "first            NaN  2013-01-01 00:00:00           NaN           NaN   \n",
              "last             NaN  2017-08-15 00:00:00           NaN           NaN   \n",
              "mean    6.271723e+07                  NaN  2.745692e+01  9.728621e+05   \n",
              "std     3.619772e+07                  NaN  1.633284e+01  5.202940e+05   \n",
              "min     2.060000e+02                  NaN  1.000000e+00  9.699500e+04   \n",
              "25%     3.138601e+07                  NaN  1.200000e+01  5.227210e+05   \n",
              "50%     6.269716e+07                  NaN  2.800000e+01  9.595020e+05   \n",
              "75%     9.402764e+07                  NaN  4.300000e+01  1.354380e+06   \n",
              "max     1.254970e+08                  NaN  5.400000e+01  2.127114e+06   \n",
              "\n",
              "          unit_sales onpromotion  \n",
              "count   1.997040e+06     1997040  \n",
              "unique           NaN           2  \n",
              "top              NaN       False  \n",
              "freq             NaN     1528448  \n",
              "first            NaN         NaN  \n",
              "last             NaN         NaN  \n",
              "mean    8.551911e+00         NaN  \n",
              "std     2.057796e+01         NaN  \n",
              "min    -1.768000e+03         NaN  \n",
              "25%     2.000000e+00         NaN  \n",
              "50%     4.000000e+00         NaN  \n",
              "75%     9.000000e+00         NaN  \n",
              "max     6.909000e+03         NaN  "
            ]
          },
          "metadata": {
            "tags": []
          },
          "execution_count": 20
        }
      ]
    },
    {
      "metadata": {
        "_uuid": "6a44de686ee950f9f9a2bfbf5479af81628e854a",
        "id": "mwXF6wntTfxT",
        "colab_type": "code",
        "outputId": "9ab6df38-58bd-4504-eb1e-c85af7359c11",
        "colab": {
          "base_uri": "https://localhost:8080/",
          "height": 457
        }
      },
      "cell_type": "code",
      "source": [
        "df_test = pd.read_csv(f'{PATH}test.csv',parse_dates=['date'], dtype=types, infer_datetime_format=True)\n",
        "\n",
        "df_test.onpromotion.fillna(False, inplace=True)\n",
        "df_test.onpromotion = df_all.onpromotion.map({'False': False, 'True': True})\n",
        "df_test.onpromotion = df_all.onpromotion.astype(bool)\n",
        "df_test.describe(include='all')"
      ],
      "execution_count": 21,
      "outputs": [
        {
          "output_type": "execute_result",
          "data": {
            "text/html": [
              "<div>\n",
              "<style scoped>\n",
              "    .dataframe tbody tr th:only-of-type {\n",
              "        vertical-align: middle;\n",
              "    }\n",
              "\n",
              "    .dataframe tbody tr th {\n",
              "        vertical-align: top;\n",
              "    }\n",
              "\n",
              "    .dataframe thead th {\n",
              "        text-align: right;\n",
              "    }\n",
              "</style>\n",
              "<table border=\"1\" class=\"dataframe\">\n",
              "  <thead>\n",
              "    <tr style=\"text-align: right;\">\n",
              "      <th></th>\n",
              "      <th>id</th>\n",
              "      <th>date</th>\n",
              "      <th>store_nbr</th>\n",
              "      <th>item_nbr</th>\n",
              "      <th>onpromotion</th>\n",
              "    </tr>\n",
              "  </thead>\n",
              "  <tbody>\n",
              "    <tr>\n",
              "      <th>count</th>\n",
              "      <td>3.370464e+06</td>\n",
              "      <td>3370464</td>\n",
              "      <td>3.370464e+06</td>\n",
              "      <td>3.370464e+06</td>\n",
              "      <td>1997040</td>\n",
              "    </tr>\n",
              "    <tr>\n",
              "      <th>unique</th>\n",
              "      <td>NaN</td>\n",
              "      <td>16</td>\n",
              "      <td>NaN</td>\n",
              "      <td>NaN</td>\n",
              "      <td>2</td>\n",
              "    </tr>\n",
              "    <tr>\n",
              "      <th>top</th>\n",
              "      <td>NaN</td>\n",
              "      <td>2017-08-27 00:00:00</td>\n",
              "      <td>NaN</td>\n",
              "      <td>NaN</td>\n",
              "      <td>False</td>\n",
              "    </tr>\n",
              "    <tr>\n",
              "      <th>freq</th>\n",
              "      <td>NaN</td>\n",
              "      <td>210654</td>\n",
              "      <td>NaN</td>\n",
              "      <td>NaN</td>\n",
              "      <td>1528448</td>\n",
              "    </tr>\n",
              "    <tr>\n",
              "      <th>first</th>\n",
              "      <td>NaN</td>\n",
              "      <td>2017-08-16 00:00:00</td>\n",
              "      <td>NaN</td>\n",
              "      <td>NaN</td>\n",
              "      <td>NaN</td>\n",
              "    </tr>\n",
              "    <tr>\n",
              "      <th>last</th>\n",
              "      <td>NaN</td>\n",
              "      <td>2017-08-31 00:00:00</td>\n",
              "      <td>NaN</td>\n",
              "      <td>NaN</td>\n",
              "      <td>NaN</td>\n",
              "    </tr>\n",
              "    <tr>\n",
              "      <th>mean</th>\n",
              "      <td>1.271823e+08</td>\n",
              "      <td>NaN</td>\n",
              "      <td>2.750000e+01</td>\n",
              "      <td>1.244798e+06</td>\n",
              "      <td>NaN</td>\n",
              "    </tr>\n",
              "    <tr>\n",
              "      <th>std</th>\n",
              "      <td>9.729693e+05</td>\n",
              "      <td>NaN</td>\n",
              "      <td>1.558579e+01</td>\n",
              "      <td>5.898362e+05</td>\n",
              "      <td>NaN</td>\n",
              "    </tr>\n",
              "    <tr>\n",
              "      <th>min</th>\n",
              "      <td>1.254970e+08</td>\n",
              "      <td>NaN</td>\n",
              "      <td>1.000000e+00</td>\n",
              "      <td>9.699500e+04</td>\n",
              "      <td>NaN</td>\n",
              "    </tr>\n",
              "    <tr>\n",
              "      <th>25%</th>\n",
              "      <td>1.263397e+08</td>\n",
              "      <td>NaN</td>\n",
              "      <td>1.400000e+01</td>\n",
              "      <td>8.053210e+05</td>\n",
              "      <td>NaN</td>\n",
              "    </tr>\n",
              "    <tr>\n",
              "      <th>50%</th>\n",
              "      <td>1.271823e+08</td>\n",
              "      <td>NaN</td>\n",
              "      <td>2.750000e+01</td>\n",
              "      <td>1.294665e+06</td>\n",
              "      <td>NaN</td>\n",
              "    </tr>\n",
              "    <tr>\n",
              "      <th>75%</th>\n",
              "      <td>1.280249e+08</td>\n",
              "      <td>NaN</td>\n",
              "      <td>4.100000e+01</td>\n",
              "      <td>1.730015e+06</td>\n",
              "      <td>NaN</td>\n",
              "    </tr>\n",
              "    <tr>\n",
              "      <th>max</th>\n",
              "      <td>1.288675e+08</td>\n",
              "      <td>NaN</td>\n",
              "      <td>5.400000e+01</td>\n",
              "      <td>2.134244e+06</td>\n",
              "      <td>NaN</td>\n",
              "    </tr>\n",
              "  </tbody>\n",
              "</table>\n",
              "</div>"
            ],
            "text/plain": [
              "                  id                 date     store_nbr      item_nbr  \\\n",
              "count   3.370464e+06              3370464  3.370464e+06  3.370464e+06   \n",
              "unique           NaN                   16           NaN           NaN   \n",
              "top              NaN  2017-08-27 00:00:00           NaN           NaN   \n",
              "freq             NaN               210654           NaN           NaN   \n",
              "first            NaN  2017-08-16 00:00:00           NaN           NaN   \n",
              "last             NaN  2017-08-31 00:00:00           NaN           NaN   \n",
              "mean    1.271823e+08                  NaN  2.750000e+01  1.244798e+06   \n",
              "std     9.729693e+05                  NaN  1.558579e+01  5.898362e+05   \n",
              "min     1.254970e+08                  NaN  1.000000e+00  9.699500e+04   \n",
              "25%     1.263397e+08                  NaN  1.400000e+01  8.053210e+05   \n",
              "50%     1.271823e+08                  NaN  2.750000e+01  1.294665e+06   \n",
              "75%     1.280249e+08                  NaN  4.100000e+01  1.730015e+06   \n",
              "max     1.288675e+08                  NaN  5.400000e+01  2.134244e+06   \n",
              "\n",
              "       onpromotion  \n",
              "count      1997040  \n",
              "unique           2  \n",
              "top          False  \n",
              "freq       1528448  \n",
              "first          NaN  \n",
              "last           NaN  \n",
              "mean           NaN  \n",
              "std            NaN  \n",
              "min            NaN  \n",
              "25%            NaN  \n",
              "50%            NaN  \n",
              "75%            NaN  \n",
              "max            NaN  "
            ]
          },
          "metadata": {
            "tags": []
          },
          "execution_count": 21
        }
      ]
    },
    {
      "metadata": {
        "_uuid": "b015edb1897f5dda284f5a091d1033c31fadc89f",
        "id": "VD4HOcUfTfyn",
        "colab_type": "code",
        "outputId": "c9ae309a-3610-4a81-a984-69e7a18645dd",
        "colab": {
          "base_uri": "https://localhost:8080/",
          "height": 206
        }
      },
      "cell_type": "code",
      "source": [
        "df_all.tail()"
      ],
      "execution_count": 22,
      "outputs": [
        {
          "output_type": "execute_result",
          "data": {
            "text/html": [
              "<div>\n",
              "<style scoped>\n",
              "    .dataframe tbody tr th:only-of-type {\n",
              "        vertical-align: middle;\n",
              "    }\n",
              "\n",
              "    .dataframe tbody tr th {\n",
              "        vertical-align: top;\n",
              "    }\n",
              "\n",
              "    .dataframe thead th {\n",
              "        text-align: right;\n",
              "    }\n",
              "</style>\n",
              "<table border=\"1\" class=\"dataframe\">\n",
              "  <thead>\n",
              "    <tr style=\"text-align: right;\">\n",
              "      <th></th>\n",
              "      <th>id</th>\n",
              "      <th>date</th>\n",
              "      <th>store_nbr</th>\n",
              "      <th>item_nbr</th>\n",
              "      <th>unit_sales</th>\n",
              "      <th>onpromotion</th>\n",
              "    </tr>\n",
              "  </thead>\n",
              "  <tbody>\n",
              "    <tr>\n",
              "      <th>1997035</th>\n",
              "      <td>73734366</td>\n",
              "      <td>2016-03-18</td>\n",
              "      <td>54</td>\n",
              "      <td>1464238</td>\n",
              "      <td>22.0</td>\n",
              "      <td>False</td>\n",
              "    </tr>\n",
              "    <tr>\n",
              "      <th>1997036</th>\n",
              "      <td>101679247</td>\n",
              "      <td>2016-12-31</td>\n",
              "      <td>49</td>\n",
              "      <td>1489899</td>\n",
              "      <td>29.0</td>\n",
              "      <td>True</td>\n",
              "    </tr>\n",
              "    <tr>\n",
              "      <th>1997037</th>\n",
              "      <td>124420242</td>\n",
              "      <td>2017-08-05</td>\n",
              "      <td>38</td>\n",
              "      <td>849080</td>\n",
              "      <td>2.0</td>\n",
              "      <td>False</td>\n",
              "    </tr>\n",
              "    <tr>\n",
              "      <th>1997038</th>\n",
              "      <td>35980557</td>\n",
              "      <td>2014-11-25</td>\n",
              "      <td>31</td>\n",
              "      <td>1463798</td>\n",
              "      <td>3.0</td>\n",
              "      <td>False</td>\n",
              "    </tr>\n",
              "    <tr>\n",
              "      <th>1997039</th>\n",
              "      <td>85369289</td>\n",
              "      <td>2016-07-18</td>\n",
              "      <td>28</td>\n",
              "      <td>362035</td>\n",
              "      <td>14.0</td>\n",
              "      <td>False</td>\n",
              "    </tr>\n",
              "  </tbody>\n",
              "</table>\n",
              "</div>"
            ],
            "text/plain": [
              "                id       date  store_nbr  item_nbr  unit_sales  onpromotion\n",
              "1997035   73734366 2016-03-18         54   1464238        22.0        False\n",
              "1997036  101679247 2016-12-31         49   1489899        29.0         True\n",
              "1997037  124420242 2017-08-05         38    849080         2.0        False\n",
              "1997038   35980557 2014-11-25         31   1463798         3.0        False\n",
              "1997039   85369289 2016-07-18         28    362035        14.0        False"
            ]
          },
          "metadata": {
            "tags": []
          },
          "execution_count": 22
        }
      ]
    },
    {
      "metadata": {
        "_uuid": "66b2255b166b0ba9418eaee30dede612e486a742",
        "id": "O-Of3ZFzTf0Q",
        "colab_type": "code",
        "colab": {}
      },
      "cell_type": "code",
      "source": [
        "df_all.unit_sales = np.log1p(np.clip(df_all.unit_sales, 0, None))"
      ],
      "execution_count": 0,
      "outputs": []
    },
    {
      "metadata": {
        "_uuid": "1e674f68916a82ef047dcccddff526d56f5d12d4",
        "id": "rAcNhOoxTf0_",
        "colab_type": "code",
        "outputId": "3c8857fe-40d2-46ab-ad77-17f8c625997b",
        "colab": {
          "base_uri": "https://localhost:8080/",
          "height": 52
        }
      },
      "cell_type": "code",
      "source": [
        "%time add_datepart(df_all, 'date')"
      ],
      "execution_count": 24,
      "outputs": [
        {
          "output_type": "stream",
          "text": [
            "CPU times: user 1.77 s, sys: 597 ms, total: 2.37 s\n",
            "Wall time: 2.37 s\n"
          ],
          "name": "stdout"
        }
      ]
    },
    {
      "metadata": {
        "id": "3c9Cvgnn-g8n",
        "colab_type": "code",
        "colab": {}
      },
      "cell_type": "code",
      "source": [
        "def split_vals(a, n): return a[:n].copy(), a[n:].copy()"
      ],
      "execution_count": 0,
      "outputs": []
    },
    {
      "metadata": {
        "_uuid": "fc36971f58f735164f36e2e03e7a88e08b460b77",
        "id": "LTFWXnrRTf1o",
        "colab_type": "code",
        "outputId": "81fefbf9-275d-49bd-c34b-76fc3b5724f4",
        "colab": {
          "base_uri": "https://localhost:8080/",
          "height": 34
        }
      },
      "cell_type": "code",
      "source": [
        "n_valid = len(df_test)\n",
        "n_trn = len(df_all) - n_valid\n",
        "train, valid = split_vals(df_all, n_trn)\n",
        "train.shape, valid.shape"
      ],
      "execution_count": 26,
      "outputs": [
        {
          "output_type": "execute_result",
          "data": {
            "text/plain": [
              "((623616, 18), (1373424, 18))"
            ]
          },
          "metadata": {
            "tags": []
          },
          "execution_count": 26
        }
      ]
    },
    {
      "metadata": {
        "id": "Oe7meG7B-qge",
        "colab_type": "code",
        "colab": {}
      },
      "cell_type": "code",
      "source": [
        "# train_cats(raw_train)\n",
        "# apply_cats(raw_valid, raw_train)"
      ],
      "execution_count": 0,
      "outputs": []
    },
    {
      "metadata": {
        "_uuid": "760b1b85e895738fc0acd843c5c6ef54497b5614",
        "id": "jJoO-sYZTf2a",
        "colab_type": "code",
        "outputId": "2e578021-c571-445c-ec54-b0f6d5408305",
        "colab": {
          "base_uri": "https://localhost:8080/",
          "height": 52
        }
      },
      "cell_type": "code",
      "source": [
        "%%time\n",
        "trn, y, nas = proc_df(train, 'unit_sales')\n",
        "val, y_val, nas = proc_df(valid, 'unit_sales')"
      ],
      "execution_count": 28,
      "outputs": [
        {
          "output_type": "stream",
          "text": [
            "CPU times: user 1.05 s, sys: 558 ms, total: 1.61 s\n",
            "Wall time: 1.61 s\n"
          ],
          "name": "stdout"
        }
      ]
    },
    {
      "metadata": {
        "_uuid": "2559cfeed3bb2edc75fab43bdc2e3ec5f7e462c4",
        "id": "O8fZS1cuTf3G",
        "colab_type": "text"
      },
      "cell_type": "markdown",
      "source": [
        "# 3 Models"
      ]
    },
    {
      "metadata": {
        "_uuid": "d9b795bf862355e5864616f6a29529bb6347fd7d",
        "id": "dhpsyabFTf3W",
        "colab_type": "code",
        "colab": {}
      },
      "cell_type": "code",
      "source": [
        "def rmse(x, y): return math.sqrt(((x-y)**2).mean())\n",
        "\n",
        "def print_score(m):\n",
        "    res = [rmse(m.predict(x), y), rmse(m.predict(val), y_val),\n",
        "          m.score(x, y), m.score(val, y_val)]\n",
        "    if hasattr(m, 'oob_score_'): res.append(m.oob_score_)\n",
        "    print(res)"
      ],
      "execution_count": 0,
      "outputs": []
    },
    {
      "metadata": {
        "_uuid": "8bb9ca082b1ba30bc56eafcb23b8c9605be37d11",
        "id": "2XASKHqCTf4C",
        "colab_type": "code",
        "colab": {}
      },
      "cell_type": "code",
      "source": [
        "set_rf_samples(1000000)"
      ],
      "execution_count": 0,
      "outputs": []
    },
    {
      "metadata": {
        "_uuid": "e53570d5cc91dad54601de72a7662bc8d18e728b",
        "id": "hZZi7126Tf4f",
        "colab_type": "code",
        "outputId": "552392a9-366b-4ea9-98cd-06e840755fc2",
        "colab": {
          "base_uri": "https://localhost:8080/",
          "height": 52
        }
      },
      "cell_type": "code",
      "source": [
        "%time x = np.array(trn, dtype=np.float32)"
      ],
      "execution_count": 31,
      "outputs": [
        {
          "output_type": "stream",
          "text": [
            "CPU times: user 558 ms, sys: 35.8 ms, total: 594 ms\n",
            "Wall time: 593 ms\n"
          ],
          "name": "stdout"
        }
      ]
    },
    {
      "metadata": {
        "_uuid": "9e15182481a92e93a628fcf5a34b56e0d06075b8",
        "id": "uy5Myf-mTf5g",
        "colab_type": "code",
        "outputId": "44a3ce05-2ca6-4cd5-9b1b-6d0fcc555894",
        "colab": {
          "base_uri": "https://localhost:8080/",
          "height": 156
        }
      },
      "cell_type": "code",
      "source": [
        "# set n_jobs=-1 to use all CPU cores available\n",
        "m = RandomForestRegressor(n_estimators=20, min_samples_leaf=100, n_jobs=-1) \n",
        "%time m.fit(x, y)"
      ],
      "execution_count": 36,
      "outputs": [
        {
          "output_type": "stream",
          "text": [
            "CPU times: user 2min 50s, sys: 71.5 ms, total: 2min 50s\n",
            "Wall time: 1min 26s\n"
          ],
          "name": "stdout"
        },
        {
          "output_type": "execute_result",
          "data": {
            "text/plain": [
              "RandomForestRegressor(bootstrap=True, criterion='mse', max_depth=None,\n",
              "           max_features='auto', max_leaf_nodes=None,\n",
              "           min_impurity_decrease=0.0, min_impurity_split=None,\n",
              "           min_samples_leaf=100, min_samples_split=2,\n",
              "           min_weight_fraction_leaf=0.0, n_estimators=20, n_jobs=-1,\n",
              "           oob_score=False, random_state=None, verbose=0, warm_start=False)"
            ]
          },
          "metadata": {
            "tags": []
          },
          "execution_count": 36
        }
      ]
    },
    {
      "metadata": {
        "_uuid": "422b5358727db6b6475ed7ec0446a177ff407427",
        "id": "hFEdRHTSTf6y",
        "colab_type": "code",
        "outputId": "52026bef-e584-411b-8bdf-1d56e21c8962",
        "colab": {
          "base_uri": "https://localhost:8080/",
          "height": 34
        }
      },
      "cell_type": "code",
      "source": [
        "print_score(m)"
      ],
      "execution_count": 33,
      "outputs": [
        {
          "output_type": "stream",
          "text": [
            "[0.776009538167972, 0.7925213761629737, 0.22717611402275195, 0.19108538656522367]\n"
          ],
          "name": "stdout"
        }
      ]
    },
    {
      "metadata": {
        "_uuid": "f164f30de9eee55ebbd4521aaf01f8587f540ad7",
        "id": "ZAl5CYTQTf7c",
        "colab_type": "code",
        "outputId": "49cfff1e-00c3-4f32-d392-33ffed342c91",
        "colab": {
          "base_uri": "https://localhost:8080/",
          "height": 156
        }
      },
      "cell_type": "code",
      "source": [
        "m = RandomForestRegressor(n_estimators=20, min_samples_leaf=10, n_jobs=-1)\n",
        "%time m.fit(x, y)"
      ],
      "execution_count": 38,
      "outputs": [
        {
          "output_type": "stream",
          "text": [
            "CPU times: user 3min 38s, sys: 92.1 ms, total: 3min 38s\n",
            "Wall time: 1min 49s\n"
          ],
          "name": "stdout"
        },
        {
          "output_type": "execute_result",
          "data": {
            "text/plain": [
              "RandomForestRegressor(bootstrap=True, criterion='mse', max_depth=None,\n",
              "           max_features='auto', max_leaf_nodes=None,\n",
              "           min_impurity_decrease=0.0, min_impurity_split=None,\n",
              "           min_samples_leaf=10, min_samples_split=2,\n",
              "           min_weight_fraction_leaf=0.0, n_estimators=20, n_jobs=-1,\n",
              "           oob_score=False, random_state=None, verbose=0, warm_start=False)"
            ]
          },
          "metadata": {
            "tags": []
          },
          "execution_count": 38
        }
      ]
    },
    {
      "metadata": {
        "id": "Hjb7BqibCx3n",
        "colab_type": "code",
        "colab": {
          "base_uri": "https://localhost:8080/",
          "height": 34
        },
        "outputId": "0651ca5d-6c45-4b46-f6b4-c8342b32c14f"
      },
      "cell_type": "code",
      "source": [
        "print_score(m)"
      ],
      "execution_count": 39,
      "outputs": [
        {
          "output_type": "stream",
          "text": [
            "[0.6081776615524892, 0.7598760754, 0.525312990622674, 0.25635398795611275]\n"
          ],
          "name": "stdout"
        }
      ]
    },
    {
      "metadata": {
        "_uuid": "f0ded0c32510e6ef71767c8f0267916c84b9a63b",
        "id": "eFJ285ELTf8T",
        "colab_type": "code",
        "outputId": "6d42b3d3-7655-401e-da84-37cb67eff9c8",
        "colab": {
          "base_uri": "https://localhost:8080/",
          "height": 156
        }
      },
      "cell_type": "code",
      "source": [
        "m = RandomForestRegressor(n_estimators=20, min_samples_leaf=3, n_jobs=-1)\n",
        "%time m.fit(x, y)"
      ],
      "execution_count": 40,
      "outputs": [
        {
          "output_type": "stream",
          "text": [
            "CPU times: user 4min 3s, sys: 112 ms, total: 4min 3s\n",
            "Wall time: 2min 2s\n"
          ],
          "name": "stdout"
        },
        {
          "output_type": "execute_result",
          "data": {
            "text/plain": [
              "RandomForestRegressor(bootstrap=True, criterion='mse', max_depth=None,\n",
              "           max_features='auto', max_leaf_nodes=None,\n",
              "           min_impurity_decrease=0.0, min_impurity_split=None,\n",
              "           min_samples_leaf=3, min_samples_split=2,\n",
              "           min_weight_fraction_leaf=0.0, n_estimators=20, n_jobs=-1,\n",
              "           oob_score=False, random_state=None, verbose=0, warm_start=False)"
            ]
          },
          "metadata": {
            "tags": []
          },
          "execution_count": 40
        }
      ]
    },
    {
      "metadata": {
        "id": "DEmBTzetCtSB",
        "colab_type": "code",
        "colab": {
          "base_uri": "https://localhost:8080/",
          "height": 69
        },
        "outputId": "a07e4b33-74c9-4c75-b880-ad994a0fe5f0"
      },
      "cell_type": "code",
      "source": [
        "%time print_score(m)"
      ],
      "execution_count": 41,
      "outputs": [
        {
          "output_type": "stream",
          "text": [
            "[0.39489960188817574, 0.7700224882615785, 0.7998664911736166, 0.236362004759179]\n",
            "CPU times: user 1min 12s, sys: 391 ms, total: 1min 12s\n",
            "Wall time: 38.4 s\n"
          ],
          "name": "stdout"
        }
      ]
    }
  ]
}