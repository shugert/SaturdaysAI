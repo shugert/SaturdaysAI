{
 "cells": [
  {
   "cell_type": "markdown",
   "metadata": {},
   "source": [
    "# Introduction to Unsupervised Learning\n",
    "\n",
    "<a href=\"https://drive.google.com/file/d/1YdA-HHYP1V05QgvwLCvfnuuau67Zl38n/view\" target=\"_blank\">\n",
    "     <img src=\"http://www.deltanalytics.org/uploads/2/6/1/4/26140521/screen-shot-2019-01-05-at-4-51-31-pm_orig.png\" width=\"500\" height=\"400\">\n",
    "</a>\n"
   ]
  },
  {
   "cell_type": "markdown",
   "metadata": {},
   "source": [
    "In earlier labs we learned how to use linear regression to study whether certain features are useful in predicting an observed outcome. Then we used ensemble methods to refine our predictions. \n",
    "\n",
    "In this notebook, we shift from prediction to pattern finding. "
   ]
  },
  {
   "cell_type": "markdown",
   "metadata": {},
   "source": [
    "What we'll be doing in this notebook:\n",
    "-----\n",
    "\n",
    "1. Give a general introduction to unsupervised learning.\n",
    "1. Use k-means clustering as unsupervised learning technique.\n",
    "1. Load and explore a dataset.\n",
    "1. Find clusters with k-means algorithm.\n",
    "1. Evaluate our results with the Elbow method.\n",
    "1. Visualize data with PCA."
   ]
  },
  {
   "cell_type": "markdown",
   "metadata": {},
   "source": [
    "Unsupervised Learning: Pattern finding in data 🔍\n",
    "------\n",
    "\n",
    "Unsupervised Learning is the process of identifying patterns in a dataset. Identifying patterns is often an early step in understanding data. Unsupervised learning methods are a set of techniques designed to _explore_ and find \"hidden structure\" rather than predict outcomes. \n",
    " \n",
    "Unsupervised learning does not require labeled data, therefore works for broader range of data. In fact, most data in the world is unlabelled. However, since there are no labels / correct answers there is not always a clear feedback to validate that the results are correct.\n",
    "\n",
    "Unsupervised Learning is also called Data Mining."
   ]
  },
  {
   "cell_type": "markdown",
   "metadata": {},
   "source": [
    "Unsupervised\n",
    "------"
   ]
  },
  {
   "cell_type": "markdown",
   "metadata": {},
   "source": [
    "2 Types of Unsupervised Learning\n",
    "--------\n",
    "\n",
    "1. Dimension Reduction\n",
    "\n",
    "1. Clustering"
   ]
  },
  {
   "cell_type": "markdown",
   "metadata": {},
   "source": [
    "What is Dimension Reduction?\n",
    "------\n",
    "\n",
    "Dimension reduction aims to find fewer number of features that be used to build a meaningful model. There are many reasons for reducing the number of features in a dataset, from avoiding overfitting to speeding up modeling fitting time.\n",
    "\n",
    "One of the most common dimension reduction techniques is Principal Component Analysis (PCA)."
   ]
  },
  {
   "cell_type": "markdown",
   "metadata": {},
   "source": [
    "What is Clustering?\n",
    "-----\n",
    "<br>\n",
    "<center><img src=\"./images/clustering.png\" width=\"700\"/></center>\n",
    "\n",
    "Clustering is what it sounds like: chunking your data into sub-groups (clusters) based on similar characteristics. Then these sub-groups are used for later analysis. Clustering is an intuitive to understand the various natural segments that make up the population of your data. Clustering typically makes it easier to visualizes your data.\n",
    "\n",
    "Clustering is also called [cluster analysis](https://en.wikipedia.org/wiki/Cluster_analysis), data segmentation, or data partitioning.\n",
    "\n",
    "We are going to focus on clustering for the rest of this notebook."
   ]
  },
  {
   "cell_type": "markdown",
   "metadata": {},
   "source": [
    "Introduction to K-means Clustering\n",
    "------\n",
    "\n",
    "<center><img src=\"./images/k_means.png\" width=\"700\"/></center>\n",
    "\n",
    "K-means one of the most common clustering techniques. The goal of k-means is find a group of datapoints that close to each other (a cluster) and are far away from other datapoints (the other clusters)."
   ]
  },
  {
   "cell_type": "markdown",
   "metadata": {},
   "source": [
    "How do we do k-means clustering?\n",
    "-----\n",
    "\n",
    "Initially, datapoints are <i>randomly assigned</i> to a cluster. Then the center of each cluster is calculated.\n",
    "\n",
    "Then we alternate between two steps:\n",
    "\n",
    "1. Assignment step: Observations are assigned to a cluster where the center is closest to them.\n",
    "\n",
    "2. Update step: New center points of clusters are determined\n",
    "\n",
    "The process repeats until observations shuffle are long around to different clusters anymore and the center of each cluster no longer moves.\n",
    "\n",
    "In other words, observations are constantly being reassigned to clusters until the distance between an observation and their closest center point is minimized."
   ]
  },
  {
   "cell_type": "markdown",
   "metadata": {},
   "source": [
    "K-means Example\n",
    "-----\n",
    "\n",
    "![](../images/left.gif)"
   ]
  },
  {
   "cell_type": "markdown",
   "metadata": {},
   "source": [
    "-----\n",
    "Fitting K-means to Kiva Data\n",
    "------\n",
    "\n",
    "Now we are going to fit k-means to <b>partition</b> or <b>segment</b> the Kiva data into clusters.\n",
    "\n",
    "Let's import the relevant packages to start coding:"
   ]
  },
  {
   "cell_type": "code",
   "execution_count": 77,
   "metadata": {},
   "outputs": [],
   "source": [
    "# Data loading and manipulation\n",
    "import pandas as pd\n",
    "import numpy as np\n",
    "\n",
    "# K-Means clustering algorithm\n",
    "from sklearn.cluster import KMeans\n",
    "\n",
    "# Plotting\n",
    "import seaborn as sns\n",
    "import matplotlib.pyplot as plt\n",
    "\n",
    "# Places the plots in the Jupyter Notebook\n",
    "%matplotlib inline\n",
    "\n",
    "# PCA dimension reduction\n",
    "from sklearn.decomposition import PCA\n",
    "from sklearn.preprocessing import StandardScaler\n",
    "\n",
    "# Keep everything visible\n",
    "pd.set_option('display.max_columns', 80)\n",
    "pd.set_option('expand_frame_repr', True)"
   ]
  },
  {
   "cell_type": "markdown",
   "metadata": {},
   "source": [
    "----\n",
    "Load and explore the data\n",
    "-----"
   ]
  },
  {
   "cell_type": "code",
   "execution_count": 2,
   "metadata": {},
   "outputs": [],
   "source": [
    "# Load data that is saved locally\n",
    "path = '../data/'\n",
    "filename = 'loans.csv'\n",
    "df = pd.read_csv(path+filename)"
   ]
  },
  {
   "cell_type": "code",
   "execution_count": null,
   "metadata": {},
   "outputs": [],
   "source": [
    "# Load data from Github if using colab\n",
    "!git clone https://github.com/DeltaAnalytics/machine_learning_for_good_data\n",
    "df = pd.read_csv(\"machine_learning_for_good_data/loans.csv\")"
   ]
  },
  {
   "cell_type": "markdown",
   "metadata": {},
   "source": [
    "It is always good idea 💡 to take a peak at the raw data."
   ]
  },
  {
   "cell_type": "code",
   "execution_count": 3,
   "metadata": {},
   "outputs": [
    {
     "data": {
      "text/html": [
       "<div>\n",
       "<style scoped>\n",
       "    .dataframe tbody tr th:only-of-type {\n",
       "        vertical-align: middle;\n",
       "    }\n",
       "\n",
       "    .dataframe tbody tr th {\n",
       "        vertical-align: top;\n",
       "    }\n",
       "\n",
       "    .dataframe thead th {\n",
       "        text-align: right;\n",
       "    }\n",
       "</style>\n",
       "<table border=\"1\" class=\"dataframe\">\n",
       "  <thead>\n",
       "    <tr style=\"text-align: right;\">\n",
       "      <th></th>\n",
       "      <th>id_number</th>\n",
       "      <th>loan_amount</th>\n",
       "      <th>lender_count</th>\n",
       "      <th>status</th>\n",
       "      <th>funded_date</th>\n",
       "      <th>funded_amount</th>\n",
       "      <th>repayment_term</th>\n",
       "      <th>location_country_code</th>\n",
       "      <th>sector</th>\n",
       "      <th>description</th>\n",
       "      <th>use</th>\n",
       "    </tr>\n",
       "  </thead>\n",
       "  <tbody>\n",
       "    <tr>\n",
       "      <th>0</th>\n",
       "      <td>736066</td>\n",
       "      <td>4825</td>\n",
       "      <td>60</td>\n",
       "      <td>funded</td>\n",
       "      <td>2014-08-03T17:51:50Z</td>\n",
       "      <td>4825</td>\n",
       "      <td>8</td>\n",
       "      <td>BJ</td>\n",
       "      <td>Retail</td>\n",
       "      <td>NaN</td>\n",
       "      <td>NaN</td>\n",
       "    </tr>\n",
       "    <tr>\n",
       "      <th>1</th>\n",
       "      <td>743090</td>\n",
       "      <td>975</td>\n",
       "      <td>34</td>\n",
       "      <td>funded</td>\n",
       "      <td>2014-08-18T09:10:54Z</td>\n",
       "      <td>975</td>\n",
       "      <td>12</td>\n",
       "      <td>BJ</td>\n",
       "      <td>Food</td>\n",
       "      <td>NaN</td>\n",
       "      <td>NaN</td>\n",
       "    </tr>\n",
       "  </tbody>\n",
       "</table>\n",
       "</div>"
      ],
      "text/plain": [
       "   id_number  loan_amount  lender_count  status           funded_date  \\\n",
       "0     736066         4825            60  funded  2014-08-03T17:51:50Z   \n",
       "1     743090          975            34  funded  2014-08-18T09:10:54Z   \n",
       "\n",
       "   funded_amount  repayment_term location_country_code  sector description  \\\n",
       "0           4825               8                    BJ  Retail         NaN   \n",
       "1            975              12                    BJ    Food         NaN   \n",
       "\n",
       "   use  \n",
       "0  NaN  \n",
       "1  NaN  "
      ]
     },
     "execution_count": 3,
     "metadata": {},
     "output_type": "execute_result"
    }
   ],
   "source": [
    "df.head(n=2)"
   ]
  },
  {
   "cell_type": "code",
   "execution_count": 6,
   "metadata": {},
   "outputs": [
    {
     "name": "stdout",
     "output_type": "stream",
     "text": [
      "There are 11 columns in the dataframe.\n",
      "There are 4,928 rows in the dataframe.\n"
     ]
    }
   ],
   "source": [
    "print(f\"There are {df.shape[1]:,} columns in the dataframe.\")\n",
    "print(f\"There are {df.shape[0]:,} rows in the dataframe.\")"
   ]
  },
  {
   "cell_type": "code",
   "execution_count": 7,
   "metadata": {},
   "outputs": [
    {
     "data": {
      "text/html": [
       "<div>\n",
       "<style scoped>\n",
       "    .dataframe tbody tr th:only-of-type {\n",
       "        vertical-align: middle;\n",
       "    }\n",
       "\n",
       "    .dataframe tbody tr th {\n",
       "        vertical-align: top;\n",
       "    }\n",
       "\n",
       "    .dataframe thead th {\n",
       "        text-align: right;\n",
       "    }\n",
       "</style>\n",
       "<table border=\"1\" class=\"dataframe\">\n",
       "  <thead>\n",
       "    <tr style=\"text-align: right;\">\n",
       "      <th></th>\n",
       "      <th>id_number</th>\n",
       "      <th>loan_amount</th>\n",
       "      <th>lender_count</th>\n",
       "      <th>funded_amount</th>\n",
       "      <th>repayment_term</th>\n",
       "    </tr>\n",
       "  </thead>\n",
       "  <tbody>\n",
       "    <tr>\n",
       "      <th>count</th>\n",
       "      <td>4.928000e+03</td>\n",
       "      <td>4928.000000</td>\n",
       "      <td>4928.000000</td>\n",
       "      <td>4928.000000</td>\n",
       "      <td>4928.000000</td>\n",
       "    </tr>\n",
       "    <tr>\n",
       "      <th>mean</th>\n",
       "      <td>1.385183e+06</td>\n",
       "      <td>792.659294</td>\n",
       "      <td>17.888393</td>\n",
       "      <td>595.200893</td>\n",
       "      <td>11.481128</td>\n",
       "    </tr>\n",
       "    <tr>\n",
       "      <th>std</th>\n",
       "      <td>3.718181e+05</td>\n",
       "      <td>963.865368</td>\n",
       "      <td>17.578036</td>\n",
       "      <td>580.119395</td>\n",
       "      <td>4.354735</td>\n",
       "    </tr>\n",
       "    <tr>\n",
       "      <th>min</th>\n",
       "      <td>1.377200e+04</td>\n",
       "      <td>50.000000</td>\n",
       "      <td>0.000000</td>\n",
       "      <td>0.000000</td>\n",
       "      <td>3.000000</td>\n",
       "    </tr>\n",
       "    <tr>\n",
       "      <th>25%</th>\n",
       "      <td>1.488906e+06</td>\n",
       "      <td>275.000000</td>\n",
       "      <td>6.000000</td>\n",
       "      <td>200.000000</td>\n",
       "      <td>8.000000</td>\n",
       "    </tr>\n",
       "    <tr>\n",
       "      <th>50%</th>\n",
       "      <td>1.559012e+06</td>\n",
       "      <td>500.000000</td>\n",
       "      <td>12.000000</td>\n",
       "      <td>375.000000</td>\n",
       "      <td>11.000000</td>\n",
       "    </tr>\n",
       "    <tr>\n",
       "      <th>75%</th>\n",
       "      <td>1.567818e+06</td>\n",
       "      <td>950.000000</td>\n",
       "      <td>23.250000</td>\n",
       "      <td>806.250000</td>\n",
       "      <td>14.000000</td>\n",
       "    </tr>\n",
       "    <tr>\n",
       "      <th>max</th>\n",
       "      <td>1.573593e+06</td>\n",
       "      <td>10000.000000</td>\n",
       "      <td>97.000000</td>\n",
       "      <td>2475.000000</td>\n",
       "      <td>40.000000</td>\n",
       "    </tr>\n",
       "  </tbody>\n",
       "</table>\n",
       "</div>"
      ],
      "text/plain": [
       "          id_number   loan_amount  lender_count  funded_amount  repayment_term\n",
       "count  4.928000e+03   4928.000000   4928.000000    4928.000000     4928.000000\n",
       "mean   1.385183e+06    792.659294     17.888393     595.200893       11.481128\n",
       "std    3.718181e+05    963.865368     17.578036     580.119395        4.354735\n",
       "min    1.377200e+04     50.000000      0.000000       0.000000        3.000000\n",
       "25%    1.488906e+06    275.000000      6.000000     200.000000        8.000000\n",
       "50%    1.559012e+06    500.000000     12.000000     375.000000       11.000000\n",
       "75%    1.567818e+06    950.000000     23.250000     806.250000       14.000000\n",
       "max    1.573593e+06  10000.000000     97.000000    2475.000000       40.000000"
      ]
     },
     "execution_count": 7,
     "metadata": {},
     "output_type": "execute_result"
    }
   ],
   "source": [
    "df.describe()"
   ]
  },
  {
   "cell_type": "markdown",
   "metadata": {},
   "source": [
    "Now that we have our data set up, we can begin partitioning our data into clusters based only a few features. Let's think about how to choose these…\n",
    "\n",
    "As a potential borrower or lender, what would be interesting to explore? \n",
    "\n",
    "In the previous notebooks, we explored a number of interesting ideas, including:\n",
    "\n",
    "- How much a borrower should ask to borrow\n",
    "- The time it takes to fund a loan\n",
    "- What features can influence the loan amount\n",
    "- If we partition borrowers into distinct groups based on how quickly they can fund a loan, will we be able to learn anything about these groups of borrowers?\n",
    "\n",
    "The k-means algorithm uses continuous-valued numeric features (k-means  can also be modified to work with categorical and ordinal features).\n",
    "\n",
    "-----\n",
    "\n",
    "Let's pick a couple of interesting continuous numeric features for analysis:"
   ]
  },
  {
   "cell_type": "markdown",
   "metadata": {},
   "source": [
    "How are Funded Amount and Days to Fund related?\n",
    "----"
   ]
  },
  {
   "cell_type": "code",
   "execution_count": 8,
   "metadata": {},
   "outputs": [],
   "source": [
    "# Keep only the relevant columns\n",
    "column_1 = 'funded_amount'\n",
    "column_2 = 'repayment_term'\n",
    "df = df[[column_1, column_2]] "
   ]
  },
  {
   "cell_type": "code",
   "execution_count": 9,
   "metadata": {},
   "outputs": [
    {
     "data": {
      "image/png": "[encoded data removed]",
      "text/plain": [
       "<Figure size 432x288 with 1 Axes>"
      ]
     },
     "metadata": {},
     "output_type": "display_data"
    }
   ],
   "source": [
    "ax = df.funded_amount.hist(grid=False);\n",
    "\n",
    "ax.set(xlabel='Funded Amount', \n",
    "       ylabel='Count', \n",
    "       title='Histogram of Funded Amount');  "
   ]
  },
  {
   "cell_type": "markdown",
   "metadata": {},
   "source": [
    "_How can we interpret the number of loans at different funding amounts?_\n",
    "\n",
    "<br>\n",
    "<br>\n",
    "<br>"
   ]
  },
  {
   "cell_type": "code",
   "execution_count": 10,
   "metadata": {},
   "outputs": [
    {
     "data": {
      "image/png": "[encoded data removed]",
      "text/plain": [
       "<Figure size 432x288 with 1 Axes>"
      ]
     },
     "metadata": {},
     "output_type": "display_data"
    }
   ],
   "source": [
    "ax = df.repayment_term.hist(grid=False);\n",
    "\n",
    "ax.set(xlabel='Repayment Term', \n",
    "       ylabel='Count', \n",
    "       title='Histogram of Repayment Term');  "
   ]
  },
  {
   "cell_type": "markdown",
   "metadata": {},
   "source": [
    "_How can we interpret the number of loans for different amount of times?_\n",
    "\n",
    "<br>\n",
    "<br>\n",
    "<br>"
   ]
  },
  {
   "cell_type": "code",
   "execution_count": 11,
   "metadata": {},
   "outputs": [],
   "source": [
    "# Filter data to remove outliers\n",
    "funded_small = df.funded_amount < 2_500  # Remove large loans\n",
    "repayment_short = df.repayment_term < 60 # Remove long repayment terms\n",
    "df = df[funded_small & repayment_short]"
   ]
  },
  {
   "cell_type": "code",
   "execution_count": 12,
   "metadata": {},
   "outputs": [
    {
     "data": {
      "image/png": "[encoded data removed]",
      "text/plain": [
       "<Figure size 432x288 with 1 Axes>"
      ]
     },
     "metadata": {},
     "output_type": "display_data"
    }
   ],
   "source": [
    "ax = df.funded_amount.hist(grid=False);\n",
    "\n",
    "ax.set(xlabel='Funded Amount', \n",
    "       ylabel='Count', \n",
    "       title='Histogram of Funded Amount');  "
   ]
  },
  {
   "cell_type": "code",
   "execution_count": 13,
   "metadata": {},
   "outputs": [
    {
     "name": "stdout",
     "output_type": "stream",
     "text": [
      "There are 2 columns in the dataframe.\n",
      "There are 4,928 rows in the dataframe.\n"
     ]
    }
   ],
   "source": [
    "print(f\"There are {df.shape[1]:,} columns in the dataframe.\")\n",
    "print(f\"There are {df.shape[0]:,} rows in the dataframe.\")"
   ]
  },
  {
   "cell_type": "code",
   "execution_count": 14,
   "metadata": {},
   "outputs": [
    {
     "data": {
      "image/png": "[encoded data removed]",
      "text/plain": [
       "<Figure size 432x288 with 1 Axes>"
      ]
     },
     "metadata": {},
     "output_type": "display_data"
    }
   ],
   "source": [
    "# Plot the relationship between these two variables\n",
    "df.plot.scatter(x=column_1,\n",
    "                y=column_2);"
   ]
  },
  {
   "cell_type": "markdown",
   "metadata": {},
   "source": [
    "_How can we interpret the relationship between the funded amount and time to fund?_\n",
    "\n",
    "<br>\n",
    "<br>\n",
    "<br>"
   ]
  },
  {
   "cell_type": "markdown",
   "metadata": {},
   "source": [
    "Clustering\n",
    "======"
   ]
  },
  {
   "cell_type": "markdown",
   "metadata": {},
   "source": [
    "----\n",
    "Fitting our data with k-means using scikit-learn\n",
    "----\n",
    "\n",
    "Now we're ready to run the k-means algorithm:\n",
    "\n",
    "Let's take quick peek at the [scikit-learn's documentation](http://scikit-learn.org/stable/modules/generated/sklearn.cluster.KMeans.html)"
   ]
  },
  {
   "cell_type": "code",
   "execution_count": 15,
   "metadata": {},
   "outputs": [],
   "source": [
    "# Take KMeans class, initialize and fit it our data\n",
    "kmeans = KMeans(n_clusters=2) # Number of clusters should be 2 or 3\n",
    "kmeans.fit(df);"
   ]
  },
  {
   "cell_type": "markdown",
   "metadata": {},
   "source": [
    "Now that we have clusters, the best way to understand them is to visualize them"
   ]
  },
  {
   "cell_type": "code",
   "execution_count": 16,
   "metadata": {},
   "outputs": [],
   "source": [
    "# Add the cluster labels for each data point to the dataframe\n",
    "df['kmeans_labels'] = kmeans.labels_"
   ]
  },
  {
   "cell_type": "code",
   "execution_count": 66,
   "metadata": {},
   "outputs": [
    {
     "data": {
      "image/png": "[encoded data removed]",
      "text/plain": [
       "<Figure size 441.75x360 with 1 Axes>"
      ]
     },
     "metadata": {},
     "output_type": "display_data"
    }
   ],
   "source": [
    "# Plot k-means\n",
    "kmeans_plot = sns.lmplot(x=column_1, \n",
    "                       y=column_2, \n",
    "                       data=df, \n",
    "                       fit_reg=False,        # Do not fit a regression line to the data\n",
    "                       hue=\"kmeans_labels\",  #'hue' will color code each group\n",
    "                       legend=True);\n",
    "\n",
    "# Plot the mean of cluster #1\n",
    "kmeans_plot.ax.plot(kmeans.cluster_centers_[0][0], kmeans.cluster_centers_[0][1], color='red', marker='*');\n",
    "\n",
    "# Plot the mean of cluster #2\n",
    "kmeans_plot.ax.plot(kmeans.cluster_centers_[1][0], kmeans.cluster_centers_[1][1], color='cyan', marker='*');\n",
    "\n",
    "# # Plot the mean of cluster #3 (if present)\n",
    "# kmeans_plot.ax.plot(kmeans.cluster_centers_[2][0], kmeans.cluster_centers_[2][1], color='orange', marker='*');"
   ]
  },
  {
   "cell_type": "markdown",
   "metadata": {},
   "source": [
    "_Why are the means where they are?_  \n",
    "\n",
    "<br>\n",
    "<br>\n",
    "<br>"
   ]
  },
  {
   "cell_type": "markdown",
   "metadata": {},
   "source": [
    "Choosing the number of clusters\n",
    "-----\n",
    "\n",
    "The k-means algorithm is somewhat naive -- it clusters the data into k clusters, even if k is not the right number of clusters to use.\n",
    "\n",
    "We arbitrarily set the number of clusters to be 2. But determining the appropriate number of clusters (k) is actually one of the most challenging parts of clustering. \n",
    "\n",
    "There is no hard and fast rule for what the value of k should be because the number of clusters will depend on your data and what the goal of your analysis. The number of groups you choose to partition in your data directly influences the results you'll find. In most areas of data analysis, it's attractive to take as granular an approach as possible, but having too many clusters can be counterproductive because the grouping will not tell you much.\n",
    "\n",
    "_Is it possible to have too many clusters? Or too few clusters?_\n",
    "\n",
    "Think about these extreme examples: \n",
    "\n",
    "1. A single cluster for all your data \n",
    "2. A cluster for each data point\n",
    "\n",
    "Neither of these will tell you anything new about your data! \n",
    "\n",
    "Rather, clustering is most effective when observations in the same cluster are very similar to each other. Also, we want observations in different clusters to be as different from each other as possible."
   ]
  },
  {
   "cell_type": "markdown",
   "metadata": {},
   "source": [
    "Elbow method to explore number of clusters\n",
    "------\n",
    "\n",
    "The elbow method is a simple, intuitive way of exploring how changing the number of clusters impacts the \"tightness\" of the clusters. \n",
    "\n",
    "The elbow method runs k-means clustering on the same dataset for a range of values of k (say, k is [1, 2, 3, 4, 5, 6, 7, 8, 9, 10]) and for each value of k, calculate the within-cluster sum-of-squares errors (SSE).\n",
    "\n",
    "SSE is the distance as-the-crow* flies between each point and closest mean, squared, and summed.\n",
    "\n",
    "SSE is a measure of internally coherent clusters are. A lower is SSE is better (an inverted score), it means the each cluster is very similar to itself. SSE is like a golf score or heart-rate, lower is better.\n",
    "\n",
    "As k increases, the improvement in SSE () will lessen. At some point this lack of improvement will be rapid, creating the \"elbow\" shape.\n",
    "\n",
    "One should choose a number of clusters so that adding another cluster doesn't give much better modeling of the data.\n",
    "\n",
    "<sub>*The figure does not look like as-the-crow distance because each axis is on very different scales. Typically, k means data is normalized so data is on the same standard scale.</sub>"
   ]
  },
  {
   "cell_type": "markdown",
   "metadata": {},
   "source": [
    "![](../images/elbow_method.png)\n",
    "\n",
    "What the elbow method does is this:\n",
    "\n",
    "1. Run the k-means algorithm over your dataset for a range of k.\n",
    "2. For each value of k, calculate how the model fits.\n",
    "3. If we see an \"elbow\" in our plotted check, then that marks a good value for k."
   ]
  },
  {
   "cell_type": "code",
   "execution_count": 67,
   "metadata": {},
   "outputs": [],
   "source": [
    "# Let's fit a different model for each value of k\n",
    "k_values = range(1, 10)\n",
    "\n",
    "# Fit a model for each value of k\n",
    "k_mean_models = [KMeans(n_clusters=i) for i in k_values]\n",
    "\n",
    "# See how the scores change\n",
    "scores = [-k_mean_models[i].fit(df).score(df) \n",
    "              for i, model in enumerate(k_mean_models)] "
   ]
  },
  {
   "cell_type": "code",
   "execution_count": 68,
   "metadata": {},
   "outputs": [
    {
     "data": {
      "image/png": "[encoded data removed]",
      "text/plain": [
       "<Figure size 432x288 with 1 Axes>"
      ]
     },
     "metadata": {},
     "output_type": "display_data"
    }
   ],
   "source": [
    "# Let's plot the effect k on the clustering\n",
    "ax = sns.pointplot(x=list(k_values),\n",
    "                   y=scores);\n",
    "ax.set(xlabel='k', \n",
    "       ylabel='Fit', \n",
    "       title='The Elbow Method choosing k');"
   ]
  },
  {
   "cell_type": "markdown",
   "metadata": {},
   "source": [
    "_How can we interpret the relationship between changing k and the fit of clustering?_  \n",
    "_Can we see where the \"bend\" is that looks like an elbow in an arm?_"
   ]
  },
  {
   "cell_type": "markdown",
   "metadata": {},
   "source": [
    "Visualize with PCA\n",
    "------\n",
    "We used just two features for clustering so this step of visualization with PCA is not actually necessary. However, for the purposes of illustrating PCA's purpose, we will demonstrate how two features can be summarized with one principal component."
   ]
  },
  {
   "cell_type": "code",
   "execution_count": 83,
   "metadata": {},
   "outputs": [
    {
     "name": "stderr",
     "output_type": "stream",
     "text": [
      "C:\\Users\\Lina\\Anaconda3\\lib\\site-packages\\sklearn\\utils\\validation.py:475: DataConversionWarning: Data with input dtype int64 was converted to float64 by StandardScaler.\n",
      "  warnings.warn(msg, DataConversionWarning)\n",
      "C:\\Users\\Lina\\Anaconda3\\lib\\site-packages\\sklearn\\utils\\validation.py:475: DataConversionWarning: Data with input dtype int64 was converted to float64 by StandardScaler.\n",
      "  warnings.warn(msg, DataConversionWarning)\n"
     ]
    }
   ],
   "source": [
    "# Separate out the features from the dataframe\n",
    "x = df[[column_1, column_2]].values\n",
    "\n",
    "# Standardize the features\n",
    "x = StandardScaler().fit_transform(x)\n",
    "\n",
    "# Get the first principal component\n",
    "pca = PCA(n_components=1)\n",
    "principalComponents = pca.fit_transform(x)\n",
    "principalDf = pd.DataFrame(data = principalComponents, columns = ['pc1'])\n",
    "data_pca_final = df.join(principalDf)\n",
    "data_pca_final['funded_amount_standardized'] = pd.Series(data = x[:,0], name = 'funded_amount_standardized')\n",
    "data_pca_final['repayment_term_standardized'] = pd.Series(data = x[:,1], name = 'repayment_term_standardized')"
   ]
  },
  {
   "cell_type": "code",
   "execution_count": 84,
   "metadata": {},
   "outputs": [
    {
     "data": {
      "text/plain": [
       "<matplotlib.collections.PathCollection at 0x1a6445f7ef0>"
      ]
     },
     "execution_count": 84,
     "metadata": {},
     "output_type": "execute_result"
    },
    {
     "data": {
      "image/png": "[encoded data removed]",
      "text/plain": [
       "<Figure size 432x288 with 1 Axes>"
      ]
     },
     "metadata": {},
     "output_type": "display_data"
    }
   ],
   "source": [
    "#Understand the relationship between the principal component and funded_amount\n",
    "plt.scatter(x=x[:,0], y=principalComponents[:,0])"
   ]
  },
  {
   "cell_type": "code",
   "execution_count": 85,
   "metadata": {},
   "outputs": [
    {
     "data": {
      "text/plain": [
       "<matplotlib.collections.PathCollection at 0x1a642ab7a90>"
      ]
     },
     "execution_count": 85,
     "metadata": {},
     "output_type": "execute_result"
    },
    {
     "data": {
      "image/png": "[encoded data removed]",
      "text/plain": [
       "<Figure size 432x288 with 1 Axes>"
      ]
     },
     "metadata": {},
     "output_type": "display_data"
    }
   ],
   "source": [
    "# Understand the relationship between the principal component and repayment_term\n",
    "plt.scatter(x=x[:,1], y=principalComponents[:,0])"
   ]
  },
  {
   "cell_type": "markdown",
   "metadata": {},
   "source": [
    "_What do you notice about the relationship between the component and its two underlying features?_"
   ]
  },
  {
   "cell_type": "code",
   "execution_count": 91,
   "metadata": {},
   "outputs": [
    {
     "name": "stderr",
     "output_type": "stream",
     "text": [
      "C:\\Users\\Lina\\Anaconda3\\lib\\site-packages\\ipykernel_launcher.py:5: SettingWithCopyWarning: \n",
      "A value is trying to be set on a copy of a slice from a DataFrame.\n",
      "Try using .loc[row_indexer,col_indexer] = value instead\n",
      "\n",
      "See the caveats in the documentation: http://pandas.pydata.org/pandas-docs/stable/indexing.html#indexing-view-versus-copy\n",
      "  \"\"\"\n"
     ]
    }
   ],
   "source": [
    "# Re-run k-means on the standardized features\n",
    "data_pca_final = data_pca_final.loc[data_pca_final[['funded_amount_standardized', 'repayment_term_standardized']].notnull().all(axis = 1)]\n",
    "kmeans = KMeans(n_clusters=2) # Number of clusters should be 2 or 3\n",
    "kmeans.fit(data_pca_final[['funded_amount_standardized', 'repayment_term_standardized']])\n",
    "data_pca_final['kmeans_labels'] = kmeans.labels_"
   ]
  },
  {
   "cell_type": "code",
   "execution_count": 94,
   "metadata": {},
   "outputs": [
    {
     "data": {
      "image/png": "[encoded data removed]",
      "text/plain": [
       "<Figure size 360x360 with 1 Axes>"
      ]
     },
     "metadata": {},
     "output_type": "display_data"
    }
   ],
   "source": [
    "# Plot the principal component against the clusters\n",
    "kmeans_plot = sns.lmplot(x='pc1', \n",
    "                       y='kmeans_labels', \n",
    "                       data=data_pca_final, \n",
    "                       fit_reg=False,        # Do not fit a regression line to the data\n",
    "                       legend=True)"
   ]
  },
  {
   "cell_type": "markdown",
   "metadata": {},
   "source": [
    "_What do you notice about the relationship with the principal component and the k-means label?_"
   ]
  },
  {
   "cell_type": "markdown",
   "metadata": {},
   "source": [
    "Summary\n",
    "------\n",
    "\n",
    "- We talked about how supervised learning finds patterns in data.\n",
    "- Clustering is finding groups within a dataset.\n",
    "- K-means clustering is a popular clustering technique that iteratively finds the best groups and center/means of groups.\n",
    "- We fit k-means to data and evaluated the results."
   ]
  },
  {
   "cell_type": "markdown",
   "metadata": {},
   "source": [
    "Further study\n",
    "-----\n",
    "\n",
    "If you want to understand k-means at a deeper level, start at the notebook found [here](https://jakevdp.github.io/PythonDataScienceHandbook/05.11-k-means.html)\n",
    "\n",
    "If you are interested in a more theory behind k-means, a great resource is [here](https://www-users.cs.umn.edu/~kumar/dmbook/ch8.pdf). \n",
    "\n",
    "There are many other clustering methods. Another popular method is [hierarchical clustering](https://en.wikipedia.org/wiki/Hierarchical_clustering)."
   ]
  },
  {
   "cell_type": "markdown",
   "metadata": {},
   "source": [
    "<br>\n",
    "<br> \n",
    "<br>\n",
    "\n",
    "----"
   ]
  }
 ],
 "metadata": {
  "kernelspec": {
   "display_name": "Python 3",
   "language": "python",
   "name": "python3"
  },
  "language_info": {
   "codemirror_mode": {
    "name": "ipython",
    "version": 3
   },
   "file_extension": ".py",
   "mimetype": "text/x-python",
   "name": "python",
   "nbconvert_exporter": "python",
   "pygments_lexer": "ipython3",
   "version": "3.6.8"
  }
 },
 "nbformat": 4,
 "nbformat_minor": 2
}
